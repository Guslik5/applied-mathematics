{
  "nbformat": 4,
  "nbformat_minor": 0,
  "metadata": {
    "colab": {
      "provenance": []
    },
    "kernelspec": {
      "name": "python3",
      "display_name": "Python 3"
    },
    "language_info": {
      "name": "python"
    }
  },
  "cells": [
    {
      "cell_type": "markdown",
      "source": [
        "# Лабораторная работа 2"
      ],
      "metadata": {
        "id": "uzxaTUUz9cuH"
      }
    },
    {
      "cell_type": "markdown",
      "source": [
        "**Задачи**\n",
        "1. Решить задачу в соответствии с номером варианта. Для решениея реализовать\n",
        "алгоритмы одномерной минимизации функции без производной: метод\n",
        "дихотомии, метод золотого сечения, метод Фиббоначи, метод парабол и\n",
        "комбинированный метод Брента.\n",
        "2. Сравните методы по количеству итераций и количеству вычислений функции в\n",
        "зависимости от разной точности. Для каждого метода обязательно указывайте,\n",
        "как изменяется отрезок при переходе к следующей итерации.\n",
        "3. Протестировать\n",
        "реализованные алгоритмы для задач минимизации многомодальных функций,\n",
        "например, на различных полиномах. Могут ли метод золотого сечения/Брента\n",
        "не найти локальный минимум многомодальной функции?"
      ],
      "metadata": {
        "id": "RdDpK79b9mO0"
      }
    },
    {
      "cell_type": "markdown",
      "source": [
        "Функция для минимизации: $ y=ln⁡(x^2)+1-sin⁡(x) $"
      ],
      "metadata": {
        "id": "Qrit5qhH-LbS"
      }
    },
    {
      "cell_type": "markdown",
      "source": [
        "Используемые библиотеки"
      ],
      "metadata": {
        "id": "zcHG8A_PQs52"
      }
    },
    {
      "cell_type": "code",
      "source": [
        "import math\n",
        "import functools\n",
        "import numpy as np"
      ],
      "metadata": {
        "id": "QtTh99WNQsHc"
      },
      "execution_count": 92,
      "outputs": []
    },
    {
      "cell_type": "code",
      "execution_count": 93,
      "metadata": {
        "id": "C2UDdyEa4x02"
      },
      "outputs": [],
      "source": [
        "def f(x):\n",
        "    return math.log(x**2) + 1 - math.sin(x)"
      ]
    },
    {
      "cell_type": "markdown",
      "source": [
        "Вторая функция для минимизации(блок 3): $ y = x^4 - 10x^3 + 31x^2 - 30x + 9 $"
      ],
      "metadata": {
        "id": "uqXrZ_u_O4Ui"
      }
    },
    {
      "cell_type": "code",
      "source": [
        "def k(x):\n",
        "    return x**4 - 10*x**3 + 31*x**2 - 30*x + 9"
      ],
      "metadata": {
        "id": "-bsavh4BO4pA"
      },
      "execution_count": 94,
      "outputs": []
    },
    {
      "cell_type": "markdown",
      "source": [
        "Третья функция для минимизации(блок 3): $ y = sin(x) + cos(x) $"
      ],
      "metadata": {
        "id": "K2_Ujo9IPNtC"
      }
    },
    {
      "cell_type": "code",
      "source": [
        "def g(x):\n",
        "    return np.sin(x) + np.cos(x)"
      ],
      "metadata": {
        "id": "LOBQnkwMPM11"
      },
      "execution_count": 95,
      "outputs": []
    },
    {
      "cell_type": "markdown",
      "source": [
        "Метод дихотомии для минимизации функции.\n",
        "\n",
        "    f: функция, которую нужно минимизировать\n",
        "    a: начальная левая граница интервала\n",
        "    b: начальная правая граница интервала\n",
        "    eps: точность вычислений\n",
        "    возвращаемое значение: точка минимума функции, количество итераций"
      ],
      "metadata": {
        "id": "3d55oFvT420L"
      }
    },
    {
      "cell_type": "code",
      "source": [
        "def dichotomy_method(f, a, b, eps, delta=None, max_iter=1000):\n",
        "    if delta is None:\n",
        "        delta = eps / 2\n",
        "\n",
        "    iterations = 0\n",
        "    while abs(b - a) > eps and iterations < max_iter:\n",
        "        iterations += 1\n",
        "        x1 = (a + b - delta) / 2\n",
        "        x2 = (a + b + delta) / 2\n",
        "        if f(x1) <= f(x2):\n",
        "            b = x2\n",
        "        else:\n",
        "            a = x1\n",
        "\n",
        "    xmin = (a + b) / 2\n",
        "    return xmin, iterations"
      ],
      "metadata": {
        "id": "g1wJ0qz143b3"
      },
      "execution_count": 96,
      "outputs": []
    },
    {
      "cell_type": "markdown",
      "source": [
        "Метод золотого сечения для минимизации функции.\n",
        "    \n",
        "    f: функция, которую нужно минимизировать\n",
        "    a: начальная левая граница интервала\n",
        "    b: начальная правая граница интервала\n",
        "    eps: точность вычислений\n",
        "    возвращаемое значение: точка минимума функции, количество итераций\n",
        "    phi: коэффициент золотого сечения\n"
      ],
      "metadata": {
        "id": "t1ATqpHG-7_r"
      }
    },
    {
      "cell_type": "code",
      "source": [
        "def golden_section_method(f, a, b, eps, max_iter=1000):\n",
        "    phi = (1 + np.sqrt(5)) / 2\n",
        "    iterations = 0\n",
        "    x1 = b - (b - a) / phi\n",
        "    x2 = a + (b - a) / phi\n",
        "    f_x1 = f(x1)\n",
        "    f_x2 = f(x2)\n",
        "\n",
        "    while abs(b - a) > eps and iterations < max_iter:\n",
        "        iterations += 1\n",
        "        if f_x1 <= f_x2:\n",
        "            b = x2\n",
        "            x2 = x1\n",
        "            f_x2 = f_x1\n",
        "            x1 = b - (b - a) / phi\n",
        "            f_x1 = f(x1)\n",
        "        else:\n",
        "            a = x1\n",
        "            x1 = x2\n",
        "            f_x1 = f_x2\n",
        "            x2 = a + (b - a) / phi\n",
        "            f_x2 = f(x2)\n",
        "\n",
        "    xmin = (a + b) / 2\n",
        "    return xmin, iterations"
      ],
      "metadata": {
        "id": "xQRTJyLv--zk"
      },
      "execution_count": 97,
      "outputs": []
    },
    {
      "cell_type": "markdown",
      "source": [
        "\n",
        "Метод Фибоначчи для минимизации функции.\n",
        "\n",
        "    f: функция, которую нужно минимизировать\n",
        "    a: начальная левая граница интервала\n",
        "    b: начальная правая граница интервала\n",
        "    n: количество точек разбиения интервала\n",
        "    Возвращаемое значение: точка минимума функции, количество итераций"
      ],
      "metadata": {
        "id": "FWgejSwe_X88"
      }
    },
    {
      "cell_type": "code",
      "source": [
        "def fibonacci_method(f, a, b, n):\n",
        "    # Вычисляем последовательность чисел Фибоначчи\n",
        "    iterations = 0\n",
        "\n",
        "    fib = [1, 1]\n",
        "    while fib[-1] < n:\n",
        "        fib.append(fib[-1] + fib[-2])\n",
        "    # Вычисляем начальный интервал\n",
        "    L = (b - a) / fib[-2]\n",
        "    x1 = a + L * fib[-3]\n",
        "    x2 = a + L * fib[-2]\n",
        "    f1, f2 = f(x1), f(x2)\n",
        "    # Итеративно сужаем интервал\n",
        "    for i in range(2, len(fib)):\n",
        "        iterations += 1\n",
        "        if f1 > f2:\n",
        "            a, x1 = x1, x2\n",
        "            x2 = a + L * fib[-i]\n",
        "            f1, f2 = f2, f(x2)\n",
        "        else:\n",
        "            b, x2 = x2, x1\n",
        "            x1 = a + L * fib[-i-1]\n",
        "            f1, f2 = f(x1), f1\n",
        "    return (a + b) / 2, iterations"
      ],
      "metadata": {
        "id": "UyLvui39_YT_"
      },
      "execution_count": 98,
      "outputs": []
    },
    {
      "cell_type": "markdown",
      "source": [
        "Метод парабол для минимизации функции.\n",
        "\n",
        "    f: функция, которую нужно минимизировать\n",
        "    x1: начальная левая граница интервала\n",
        "    x2: середина интервала\n",
        "    x3: начальная правая граница интервала\n",
        "    eps: точность вычислений\n",
        "    Возвращаемое значение: точка минимума функции, количество итераций"
      ],
      "metadata": {
        "id": "CnXKges__uFS"
      }
    },
    {
      "cell_type": "code",
      "source": [
        "def parabola_search(f, x1, x2, x3, eps):\n",
        "    iterations = 0\n",
        "    f1, f2, f3 = f(x1), f(x2), f(x3)\n",
        "    while x3 - x1 > eps:\n",
        "        iterations += 1\n",
        "        u = x2 - ((x2 - x1)**2*(f2 - f3) - (x2 - x3)**2*(f2 - f1))/(2*((x2 - x1)*(f2 - f3) - (x2 - x3)*(f2 - f1)))\n",
        "        fu = f(u)\n",
        "\n",
        "        if x2 <= u:\n",
        "            if f2 <= fu:\n",
        "                x1, x2, x3 = x1, x2, u\n",
        "                f1, f2, f3 = f1, f2, fu\n",
        "            else:\n",
        "                x1, x2, x3 = x2, u, x3\n",
        "                f1, f2, f3 = f2, fu, f3\n",
        "        else:\n",
        "            if fu <= f2:\n",
        "                x1, x2, x3 = x1, u, x2\n",
        "                f1, f2, f3 = f1, fu, f2\n",
        "            else:\n",
        "                x1, x2, x3 = u, x2, x3\n",
        "                f1, f2, f3 = fu, f2, f3\n",
        "    return (x1 + x3) / 2, iterations"
      ],
      "metadata": {
        "id": "lPt1LM8h_twF"
      },
      "execution_count": 99,
      "outputs": []
    },
    {
      "cell_type": "markdown",
      "source": [
        "Метод Брента для минимизации функции.\n",
        "\n",
        "    f: функция, которую нужно минимизировать\n",
        "    a: начальная левая граница интервала\n",
        "    b: начальная правая граница интервала\n",
        "    eps: точность вычислений\n",
        "    n: количество точек разбиения интервала\n",
        "    Возвращаемое значение: точка минимума функции, значение функции в этой точке, количество итераций"
      ],
      "metadata": {
        "id": "j1TrxtHi_tlZ"
      }
    },
    {
      "cell_type": "code",
      "source": [
        "def brent(f, a, b, tol = 1e-6, max_iter = 500):\n",
        "    iterations = 0\n",
        "    golden_ratio = (3 - math.sqrt(5)) / 2\n",
        "    x = w = v = a + golden_ratio * (b - a)\n",
        "    fx = fw = fv = f(x)\n",
        "\n",
        "    d = e = b - a\n",
        "\n",
        "    for _ in range(max_iter):\n",
        "        iterations += 1\n",
        "        g, e = e, d\n",
        "        tol_1 = tol * abs(x) + tol\n",
        "        middle = (a + b) / 2\n",
        "\n",
        "        if abs(x - middle) + (b - a) / 2 <= 2 * tol_1:\n",
        "            break\n",
        "\n",
        "        u = None\n",
        "        if x != w and x != v and w != v and fw != fx and fw != fv and fv != fx:\n",
        "            # Параболическая аппроксимация\n",
        "            u = x * (fx - fw) * (fx - fv) / ((fx - fw) * (fx - fv) * (fw - fv)) + \\\n",
        "                w * (fw - fx) * (fw - fv) / ((fw - fx) * (fw - fv) * (fx - fv)) + \\\n",
        "                v * (fv - fx) * (fv - fw) / ((fv - fx) * (fv - fw) * (fx - fw))\n",
        "\n",
        "            if a <= u <= b and abs(u - x) < g / 2:\n",
        "                pass\n",
        "            else:\n",
        "                u = None\n",
        "\n",
        "        if u is None:\n",
        "            if x < middle:\n",
        "                u = x + golden_ratio * (b - x)\n",
        "                e = b - x\n",
        "            else:\n",
        "                u = x - golden_ratio * (x - a)\n",
        "                e = x - a\n",
        "\n",
        "            if abs(u - x) < tol_1:\n",
        "                u = x + math.copysign(tol_1, u - x)\n",
        "\n",
        "        d = abs(u - x)\n",
        "        fu = f(u)\n",
        "\n",
        "        if fu <= fx:\n",
        "            if u >= x:\n",
        "                a = x\n",
        "            else:\n",
        "                b = x\n",
        "\n",
        "            v, w, x = w, x, u\n",
        "            fv, fw, fx = fw, fx, fu\n",
        "        else:\n",
        "            if u >= x:\n",
        "                b = u\n",
        "            else:\n",
        "                a = u\n",
        "\n",
        "            if fu <= fw or w == x:\n",
        "                v, w = w, u\n",
        "                fv, fw = fw, fu\n",
        "            elif fu <= fv or v == x or v == w:\n",
        "                v = u\n",
        "                fv = fu\n",
        "\n",
        "    return x, iterations, fx"
      ],
      "metadata": {
        "id": "jIQD5dplAshV"
      },
      "execution_count": 100,
      "outputs": []
    },
    {
      "cell_type": "markdown",
      "source": [
        "!!!"
      ],
      "metadata": {
        "id": "ImRN1_wKQHoM"
      }
    },
    {
      "cell_type": "code",
      "source": [
        "def count_calls(func):\n",
        "    @functools.wraps(func)\n",
        "    def wrapper(*args, **kwargs):\n",
        "        wrapper.calls += 1\n",
        "        return func(*args, **kwargs)\n",
        "    wrapper.calls = 0\n",
        "    return wrapper\n",
        "  \n",
        "f_counted = count_calls(f)"
      ],
      "metadata": {
        "id": "K1PNojkOQH_B"
      },
      "execution_count": 101,
      "outputs": []
    },
    {
      "cell_type": "markdown",
      "source": [
        "Функция выполнения метода и вывода итераций и вызовов функции"
      ],
      "metadata": {
        "id": "l8PZvfv2QT2L"
      }
    },
    {
      "cell_type": "code",
      "source": [
        "def test_method(method, name, *args, **kwargs):\n",
        "    f_counted.calls = 0\n",
        "    iterations = method(f_counted, *args, **kwargs)\n",
        "    print(f\"{name}: iterations = {iterations[1]}, function calls = {f_counted.calls}\")"
      ],
      "metadata": {
        "id": "Dy4S1H_wQUN5"
      },
      "execution_count": 102,
      "outputs": []
    },
    {
      "cell_type": "markdown",
      "source": [
        "Задаем начальный интервал, точность вычислений, количество точек разбиения интервала"
      ],
      "metadata": {
        "id": "cirTLio82GqQ"
      }
    },
    {
      "cell_type": "code",
      "source": [
        "a = 12\n",
        "b = 16\n",
        "eps = 1e-6\n",
        "n = 1000\n",
        "\n",
        "brent_x_min, iterations, brent_f_min = brent(f, a, b) # метод брента\n",
        "\n",
        "\n",
        "# Выводим результат\n",
        "print(\"Минимум функции по методу дихотомии y=ln(x^2)+1-sin(x) достигается в точке x =\", dichotomy_method(f, a, b, eps)[0])\n",
        "print(\"Минимум функции по методу золотого сечения y=ln(x^2)+1-sin(x) достигается в точке x =\", golden_section_method(f, a, b, eps)[0])\n",
        "print(\"Минимум функции по методу Фибоначчи y=ln(x^2)+1-sin(x) достигается в точке x =\", fibonacci_method(f, a, b, n)[0])\n",
        "print(\"Минимум функции по методу парабол y=ln(x^2)+1-sin(x) достигается в точке x =\", parabola_search(f, a, (a+b)/2, b, eps)[0])\n",
        "print(f\"Минимум функции по методу Брента y=ln(x^2)+1-sin(x) достигается в точке x = {brent_x_min}, значение функции в этой точке: {brent_f_min}\")\n",
        "print()\n",
        "print()"
      ],
      "metadata": {
        "colab": {
          "base_uri": "https://localhost:8080/"
        },
        "id": "fFPIpUs-5FtM",
        "outputId": "ad055a62-0bc3-407e-fa67-1293e4538b02"
      },
      "execution_count": 103,
      "outputs": [
        {
          "output_type": "stream",
          "name": "stdout",
          "text": [
            "Минимум функции по методу дихотомии y=ln(x^2)+1-sin(x) достигается в точке x = 13.993755102938204\n",
            "Минимум функции по методу золотого сечения y=ln(x^2)+1-sin(x) достигается в точке x = 13.993754890997206\n",
            "Минимум функции по методу Фибоначчи y=ln(x^2)+1-sin(x) достигается в точке x = 13.993920972644379\n",
            "Минимум функции по методу парабол y=ln(x^2)+1-sin(x) достигается в точке x = 13.993754903525073\n",
            "Минимум функции по методу Брента y=ln(x^2)+1-sin(x) достигается в точке x = 13.993750180467002, значение функции в этой точке: 5.287488196821018\n",
            "\n",
            "\n"
          ]
        }
      ]
    },
    {
      "cell_type": "markdown",
      "source": [
        "Тестируем реализованные алгоритмы для задач минимизации многомодальных функций. \n",
        "\n",
        "Используемые функции:\n",
        ">$ y = x^4 - 10x^3 + 31x^2 - 30x + 9 $\n",
        "\n",
        ">$ y = sin(x) + cos(x) $"
      ],
      "metadata": {
        "id": "mEwQm3wORVOJ"
      }
    },
    {
      "cell_type": "code",
      "source": [
        "print(\"Минимум функции y=x^4 - 10x^3 + 31x^2 - 30x + 9 при методе дихотомии\", dichotomy_method(k, a, b, eps)[0])\n",
        "print(\"Минимум функции y=x^4 - 10x^3 + 31x^2 - 30x + 9 при методе золотого сечения\", golden_section_method(k, a, b, eps)[0])\n",
        "print(\"Минимум функции y=x^4 - 10x^3 + 31x^2 - 30x + 9 при методе Фибоначчи\", fibonacci_method(k, a, b, n)[0])\n",
        "print(\"Минимум функции y=x^4 - 10x^3 + 31x^2 - 30x + 9 при методе парабол\", parabola_search(k, a, (a+b)/2, b, eps)[0])\n",
        "print(\"Минимум функции y=x^4 - 10x^3 + 31x^2 - 30x + 9 при методе Брента\", brent(k, a, b, eps, n)[0])\n",
        "print()\n",
        "print(\"Минимум функции y=sin(x)+cos(x) при методе дихотомии\", dichotomy_method(g, a, b, eps)[0])\n",
        "print(\"Минимум функции y=sin(x)+cos(x) при методе золотого сечения\", golden_section_method(g, a, b, eps)[0])\n",
        "print(\"Минимум функции y=sin(x)+cos(x) при методе Фибоначчи\", fibonacci_method(g, a, b, n)[0])\n",
        "print(\"Минимум функции y=sin(x)+cos(x) при методе парабол\", parabola_search(g, a, (a+b)/2, b, eps)[0])\n",
        "print(\"Минимум функции y=sin(x)+cos(x) при методе Брента\", brent(g, a, b, eps, n)[0])\n",
        "\n",
        "print()"
      ],
      "metadata": {
        "colab": {
          "base_uri": "https://localhost:8080/"
        },
        "id": "QwxIr3awRWmu",
        "outputId": "2cf3a5b5-c99e-4633-ce5b-9f919ace1f43"
      },
      "execution_count": 104,
      "outputs": [
        {
          "output_type": "stream",
          "name": "stdout",
          "text": [
            "Минимум функции y=x^4 - 10x^3 + 31x^2 - 30x + 9 при методе дихотомии 12.000000488418548\n",
            "Минимум функции y=x^4 - 10x^3 + 31x^2 - 30x + 9 при методе золотого сечения 12.000000410606205\n",
            "Минимум функции y=x^4 - 10x^3 + 31x^2 - 30x + 9 при методе Фибоначчи 12.004052684903748\n",
            "Минимум функции y=x^4 - 10x^3 + 31x^2 - 30x + 9 при методе парабол 11.06637168141593\n",
            "Минимум функции y=x^4 - 10x^3 + 31x^2 - 30x + 9 при методе Брента 12.000023843443945\n",
            "\n",
            "Минимум функции y=sin(x)+cos(x) при методе дихотомии 15.999999511581452\n",
            "Минимум функции y=sin(x)+cos(x) при методе золотого сечения 15.999999589393795\n",
            "Минимум функции y=sin(x)+cos(x) при методе Фибоначчи 16.494427558257343\n",
            "Минимум функции y=sin(x)+cos(x) при методе парабол 13.43247602623654\n",
            "Минимум функции y=sin(x)+cos(x) при методе Брента 15.999978420458708\n",
            "\n"
          ]
        }
      ]
    },
    {
      "cell_type": "markdown",
      "source": [
        "Вывод(блок 3) : Однако, как и любой другой метод оптимизации, методы золотого сечения и Брента могут сойтись к локальному минимуму функции, который не является глобальным. Это может произойти, если метод начинает поиски с неправильной точки или если функция имеет несколько локальных минимумов, но глобальный минимум находится вне области, где метод проводит свои итерации."
      ],
      "metadata": {
        "id": "tJi_ISZe5OQx"
      }
    },
    {
      "cell_type": "markdown",
      "source": [
        "# Блок 2"
      ],
      "metadata": {
        "id": "1F73pN-USIYI"
      }
    },
    {
      "cell_type": "markdown",
      "source": [
        "Заранее мы создали функцию-обертку для каждого метода, которая будет возвращать количество итераций и количества вычислений функции, здесь запустим выполнение методов"
      ],
      "metadata": {
        "id": "1_7D7by8SZ6J"
      }
    },
    {
      "cell_type": "code",
      "source": [
        "eps_list = [1e-2, 1e-4, 1e-6]\n",
        "methods = [\n",
        "    (dichotomy_method, \"Dichotomy method\"),\n",
        "    (golden_section_method, \"Golden section method\"),\n",
        "    (fibonacci_method, \"Fibonacci method\"),\n",
        "    (parabola_search, \"Parabola search\"),\n",
        "    (brent, \"Brent's method\")\n",
        "]\n",
        "\n",
        "a, b = 13, 16\n",
        "\n",
        "for eps in eps_list:\n",
        "    print(f\"eps = {eps}:\")\n",
        "    for method, name in methods:\n",
        "        if method == fibonacci_method:\n",
        "            n = 30\n",
        "            test_method(method, name, a, b, n)\n",
        "        elif method == parabola_search:\n",
        "            x1, x2, x3 = a, (a + b) / 2, b\n",
        "            test_method(method, name, x1, x2, x3, eps)\n",
        "        else:\n",
        "            test_method(method, name, a, b, eps)\n",
        "    print()"
      ],
      "metadata": {
        "colab": {
          "base_uri": "https://localhost:8080/"
        },
        "id": "IX2aZPfm5TSC",
        "outputId": "68c86ad3-a313-403c-aeb2-a35c93a5da54"
      },
      "execution_count": 105,
      "outputs": [
        {
          "output_type": "stream",
          "name": "stdout",
          "text": [
            "eps = 0.01:\n",
            "Dichotomy method: iterations = 10, function calls = 20\n",
            "Golden section method: iterations = 12, function calls = 14\n",
            "Fibonacci method: iterations = 7, function calls = 9\n",
            "Parabola search: iterations = 7, function calls = 10\n",
            "Brent's method: iterations = 5, function calls = 5\n",
            "\n",
            "eps = 0.0001:\n",
            "Dichotomy method: iterations = 16, function calls = 32\n",
            "Golden section method: iterations = 22, function calls = 24\n",
            "Fibonacci method: iterations = 7, function calls = 9\n",
            "Parabola search: iterations = 7, function calls = 10\n",
            "Brent's method: iterations = 15, function calls = 15\n",
            "\n",
            "eps = 1e-06:\n",
            "Dichotomy method: iterations = 23, function calls = 46\n",
            "Golden section method: iterations = 31, function calls = 33\n",
            "Fibonacci method: iterations = 7, function calls = 9\n",
            "Parabola search: iterations = 7, function calls = 10\n",
            "Brent's method: iterations = 24, function calls = 24\n",
            "\n"
          ]
        }
      ]
    },
    {
      "cell_type": "markdown",
      "source": [
        "# Сравнение методов:\n",
        "\n",
        "1.\tМетод дихотомии: на каждой итерации интервал уменьшается вдвое, и требуется два вычисления функции. Вместе с увеличением точности количество итераций возрастает логарифмически.\n",
        "\n",
        "2.\tМетод золотого сечения и метод Фибоначчи: на каждой итерации интервал уменьшается в соответствии с соотношением золотого сечения (или числами Фибоначчи). Эти методы требуют одно вычисление функции на каждой итерации. С увеличением точности количество итераций также возрастает логарифмически, но в меньшей степени, чем у метода дихотомии.\n",
        "\n",
        "3.\tПоиск с помощью параболы и метод Брента: количество итераций для сходимости зависит от того, насколько хорошо функция аппроксимируется параболой. Если функция хорошо аппроксимируется параболой, эти методы сходятся быстрее других методов и требуют меньше вычислений функции.\n"
      ],
      "metadata": {
        "id": "5CgKJV8mSx5p"
      }
    }
  ]
}